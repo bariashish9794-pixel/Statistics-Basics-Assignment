{
  "nbformat": 4,
  "nbformat_minor": 0,
  "metadata": {
    "colab": {
      "provenance": []
    },
    "kernelspec": {
      "name": "python3",
      "display_name": "Python 3"
    },
    "language_info": {
      "name": "python"
    }
  },
  "cells": [
    {
      "cell_type": "code",
      "execution_count": null,
      "metadata": {
        "id": "hMb2PE2pFYoQ"
      },
      "outputs": [],
      "source": []
    },
    {
      "cell_type": "markdown",
      "source": [
        " # 1.What is the difference between descriptive statistics and inferential statistics? Explain with examples.\n",
        "Ans:- Descriptive Statistics\n",
        "Definition: Descriptive statistics summarize and organize characteristics of a data set. They describe what the data shows without making predictions or generalizations beyond the data.\n",
        "\n",
        "Key Features:\n",
        "\n",
        "•\tFocuses on what is observed\n",
        "\n",
        "•\tNo assumptions or predictions\n",
        "\n",
        "•\tUsed to present data in a meaningful way\n",
        "\n",
        "Examples:\n",
        "•\tMean, median, mode: Average score of students in a class\n",
        "\n",
        "•\tStandard deviation: Spread of ages in a survey\n",
        "\n",
        "•\tCharts and graphs: Pie chart showing market share of companies\n",
        "\n",
        "•\tPercentages: 60% of respondents prefer product A\n",
        "\n",
        "Use Case:\n",
        "A company surveys 100 customers and finds that the average satisfaction rating is 4.2 out of 5. That’s descriptive—it tells us about this specific group.\n",
        "Inferential Statistics\n",
        "\n",
        "Definition: Inferential statistics use a sample of data to make generalizations or predictions about a larger population. It involves probability and hypothesis testing.\n",
        "\n",
        "Key Features:\n",
        "\n",
        "•\tMakes inferences about a population\n",
        "\n",
        "•\tUses sampling and probability\n",
        "\n",
        "•\tIncludes confidence intervals, hypothesis tests, regression analysis\n",
        "\n",
        "Examples:\n",
        "\n",
        "•\tEstimating the average income of all citizens based on a sample\n",
        "\n",
        "•\tTesting whether a new drug is more effective than the current one\n",
        "\n",
        "•\tPredicting election outcomes from polling data\n",
        "\n",
        "•\tDetermining if a difference in test scores between two schools is statistically significant\n",
        "\n",
        "Use Case:\n",
        "A political analyst surveys 1,000 voters and predicts the outcome of a national election. That’s inferential—it goes beyond the sample to say something about the whole population.\n",
        "\n",
        "# 2: What is sampling in statistics? Explain the differences between random and stratified sampling.\n",
        "Ans:- Sampling is the process of selecting a subset (called a sample) from a larger group (called a population) to gather insights or make inferences about the whole. Since studying an entire population is often impractical, sampling allows researchers to work efficiently while still drawing reliable conclusions.\n",
        "\n",
        "Here’s how random sampling and stratified sampling differ:\n",
        "\n",
        "# Definition:\n",
        "\n",
        " Random Sampling ( Every individual in the population has an equal chance of being selected.)\n",
        "\n",
        " Stratified Sampling (Population is divided into subgroups (strata), and samples are taken from each subgroup.)\n",
        "\n",
        "# Method\n",
        "\n",
        " In Random\n",
        "\n",
        " Selection is completely by chance (e.g., lottery, random number generator).\n",
        "\n",
        " In Stratified\n",
        "\n",
        " Subgroups are formed based on shared characteristics (e.g., age, income), then sampled.\n",
        "\n",
        "# Goal\n",
        "\n",
        "Of Random\n",
        "\n",
        "To avoid bias and ensure fairness.\n",
        "\n",
        "Of Stratified\n",
        "\n",
        "To ensure representation of all key subgroups.\n",
        "\n",
        "# Example\n",
        "\n",
        "Choosing 100 students randomly from a university.\n",
        "\n",
        "Selecting 25 students from each year (freshman, sophomore, junior, senior) to ensure all years are represented.\n",
        "\n",
        "# Best Used\n",
        "\n",
        "When\tPopulation is homogeneous or differences are not critical.\n",
        "\n",
        "Population has distinct subgroups and you want to compare or represent them accurately.\n",
        "\n",
        "# Real-Life Examples\n",
        "\n",
        "•\tRandom Sampling: A researcher wants to know the average screen time of teenagers in a city. They randomly select 200 teens from a city-wide database.\n",
        "\n",
        "•\tStratified Sampling: A health study wants to compare cholesterol levels across age groups. The population is divided into age brackets (20–30, 31–40, etc.), and equal samples are taken from each bracket.\n",
        "\n",
        "# 3: Define mean, median, and mode. Explain why these measures of central tendency are important.\n",
        "\n",
        "Ans- Definitions\n",
        "\n",
        "1. Mean (Average)\n",
        "\n",
        "•\tThe sum of all values divided by the number of values.\n",
        "\n",
        "•\tFormula: $$ \\text{Mean} = \\frac{\\text{Sum of all values}}{\\text{Number of values}} $$\n",
        "\n",
        "•\tExample: For the data set [4, 6, 8], Mean = (4 + 6 + 8) / 3 = 6\n",
        "\n",
        "2. Median\n",
        "\n",
        "•\tThe middle value when data is arranged in order.\n",
        "\n",
        "•\tIf the number of values is even, it's the average of the two middle numbers.\n",
        "\n",
        "•\tExample: For [3, 7, 9], the median is 7\n",
        "\n",
        "•\tFor [2, 4, 6, 8], the median is (4 + 6)/2 = 5\n",
        "\n",
        "3. Mode\n",
        "\n",
        "•\tThe value that appears most frequently in a data set.\n",
        "\n",
        "•\tA set can have no mode, one mode, or multiple modes.\n",
        "\n",
        "•\tExample: For [2, 4, 4, 6], the mode is 4 For [1, 2, 3], there is no mode\n",
        "Why These Measures Matter\n",
        "\n",
        "These measures help us understand the distribution and center of a data set. Here's why they're important:\n",
        "\n",
        "Measure\tImportance\n",
        "\n",
        "Mean\tGives a general idea of the overall level of the data. Useful in budgeting, forecasting, and performance analysis.\n",
        "\n",
        "Median\tHelps understand the middle point, especially when data is skewed or has outliers. Common in income and housing price analysis.\n",
        "\n",
        "Mode\tHighlights the most common value. Useful in market research, fashion trends, and consumer behavior.\n",
        "\n",
        "Real-Life Applications\n",
        "\n",
        "•\tEducation: Mean test scores help evaluate class performance.\n",
        "\n",
        "•\tHealthcare: Median wait times give a better sense of patient experience than mean (which can be skewed by extreme cases).\n",
        "\n",
        "•\tRetail: Mode helps identify the most popular product\n",
        "\n",
        "# 4: Explain skewness and kurtosis. What does a positive skew imply about the data?\n",
        "\n",
        "Ans- Definition: Skewness tells us whether the data is symmetrical or leans more to one side.\n",
        "\n",
        "•\tPositive Skew (Right Skew):\n",
        "\n",
        "o\tThe tail on the right side is longer.\n",
        "\n",
        "o\tMost data values are clustered on the left, with a few larger outliers pulling the mean to the right.\n",
        "\n",
        "o\tMean > Median\n",
        "\n",
        "o\tExample: Income distribution — most people earn modest incomes, but a few earn extremely high amounts.\n",
        "\n",
        "•\tNegative Skew (Left Skew):\n",
        "\n",
        "o\tThe tail is longer on the left side.\n",
        "\n",
        "o\tMost data values are clustered on the right, with a few smaller outliers.\n",
        "\n",
        "o\tMean < Median\n",
        "\n",
        "o\tExample: Age at retirement — most people retire around 60–65, but a few retire much earlier.\n",
        "\n",
        "Kurtosis: Measuring Peakedness\n",
        "\n",
        "Definition: Kurtosis describes the height and sharpness of the peak of a distribution and the weight of the tails.\n",
        "\n",
        "•\tMesokurtic (Normal Kurtosis):\n",
        "\n",
        "o\tSimilar to a normal distribution.\n",
        "\n",
        "o\tModerate peak and tails.\n",
        "\n",
        "•\tLeptokurtic (High Kurtosis):\n",
        "\n",
        "o\tSharper peak and heavier tails.\n",
        "\n",
        "o\tMore extreme outliers.\n",
        "\n",
        "o\tExample: Stock returns — mostly small changes, but occasional large jumps.\n",
        "\n",
        "•\tPlatykurtic (Low Kurtosis):\n",
        "\n",
        "o\tFlatter peak and lighter tails.\n",
        "\n",
        "o\tFewer outliers.\n",
        "\n",
        "o\tExample: Uniform distribution — values are spread evenly.\n",
        "A positive skew means:\n",
        "\n",
        "•\tThe data has a long tail on the right.\n",
        "\n",
        "•\tMost values are lower, but a few high values stretch the distribution.\n",
        "\n",
        "•\tThe mean is greater than the median, which can distort averages.\n",
        "\n",
        "•\tIt often suggests outliers or extreme values that need attention.\n",
        "\n"
      ],
      "metadata": {
        "id": "I-RXwPxdIeIK"
      }
    },
    {
      "cell_type": "markdown",
      "source": [
        "# 5 : Implement a Python program to compute the mean, median, and mode of\n",
        "a given list of numbers.\n",
        "\n",
        "numbers = [12, 15, 12, 18, 19, 12, 20, 22, 19, 19, 24, 24, 24, 26, 28]"
      ],
      "metadata": {
        "id": "H-9yWZ-IIzRb"
      }
    },
    {
      "cell_type": "code",
      "source": [
        "import statistics\n",
        "\n",
        "# Given list of numbers\n",
        "numbers = [12, 15, 12, 18, 19, 12, 20, 22, 19, 19, 24, 24, 24, 26, 28]\n",
        "\n",
        "# Compute mean, median, and mode\n",
        "mean_value = statistics.mean(numbers)\n",
        "median_value = statistics.median(numbers)\n",
        "mode_value = statistics.mode(numbers)\n",
        "\n",
        "# Display the results\n",
        "print(\"Mean:\", mean_value)\n",
        "print(\"Median:\", median_value)\n",
        "print(\"Mode:\", mode_value)\n"
      ],
      "metadata": {
        "colab": {
          "base_uri": "https://localhost:8080/",
          "height": 0
        },
        "id": "AI34BTUpO8wL",
        "outputId": "18f66549-d1fe-4df5-da09-2a3f60f2b53c"
      },
      "execution_count": 2,
      "outputs": [
        {
          "output_type": "stream",
          "name": "stdout",
          "text": [
            "Mean: 19.6\n",
            "Median: 19\n",
            "Mode: 12\n"
          ]
        }
      ]
    },
    {
      "cell_type": "markdown",
      "source": [
        "# 6 :Compute the covariance and correlation coefficient between the following\n",
        "\n",
        "two datasets provided as lists in Python:\n",
        "list_x = [10, 20, 30, 40, 50]\n",
        "list_y = [15, 25, 35, 45, 60]\n",
        "(Include your Python code and output in the code box below.)\n"
      ],
      "metadata": {
        "id": "8n-CvxkDPENb"
      }
    },
    {
      "cell_type": "code",
      "source": [
        "import numpy as np\n",
        "\n",
        "# Given lists\n",
        "list_x = [10, 20, 30, 40, 50]\n",
        "list_y = [15, 25, 35, 45, 60]\n",
        "\n",
        "# Convert lists to numpy arrays\n",
        "x = np.array(list_x)\n",
        "y = np.array(list_y)\n",
        "\n",
        "# Compute covariance matrix\n",
        "cov_matrix = np.cov(x, y, ddof=0)\n",
        "covariance = cov_matrix[0, 1]\n",
        "\n",
        "# Compute correlation coefficient\n",
        "correlation = np.corrcoef(x, y)[0, 1]\n",
        "\n",
        "# Display results\n",
        "print(\"Covariance:\", covariance)\n",
        "print(\"Correlation Coefficient:\", correlation)\n"
      ],
      "metadata": {
        "colab": {
          "base_uri": "https://localhost:8080/",
          "height": 0
        },
        "id": "hfO2R8LWPDyl",
        "outputId": "9a414efa-6f1b-4e64-a342-9fd0c0699740"
      },
      "execution_count": 3,
      "outputs": [
        {
          "output_type": "stream",
          "name": "stdout",
          "text": [
            "Covariance: 220.0\n",
            "Correlation Coefficient: 0.995893206467704\n"
          ]
        }
      ]
    },
    {
      "cell_type": "markdown",
      "source": [
        "# 7: Write a Python script to draw a boxplot for the following numeric list and\n",
        "\n",
        "identify its outliers. Explain the result:\n",
        "\n",
        "data = [12, 14, 14, 15, 18, 19, 19, 21, 22, 22, 23, 23, 24, 26, 29, 35]"
      ],
      "metadata": {
        "id": "iQzXiMVSPi_v"
      }
    },
    {
      "cell_type": "code",
      "source": [
        "import matplotlib.pyplot as plt\n",
        "import seaborn as sns\n",
        "import numpy as np\n",
        "\n",
        "# Data\n",
        "data = [12, 14, 14, 15, 18, 19, 19, 21, 22, 22, 23, 23, 24, 26, 29, 35]\n",
        "\n",
        "# Set seaborn style\n",
        "sns.set(style=\"whitegrid\")\n",
        "\n",
        "# Create boxplot\n",
        "plt.figure(figsize=(8, 4))\n",
        "sns.boxplot(data=data, color='skyblue')\n",
        "plt.title('Boxplot of Numeric List')\n",
        "plt.xlabel('Values')\n",
        "plt.tight_layout()\n",
        "plt.show()\n",
        "\n",
        "# Identify outliers using IQR method\n",
        "q1 = np.percentile(data, 25)\n",
        "q3 = np.percentile(data, 75)\n",
        "iqr = q3 - q1\n",
        "lower_bound = q1 - 1.5 * iqr\n",
        "upper_bound = q3 + 1.5 * iqr\n",
        "\n",
        "outliers = [x for x in data if x < lower_bound or x > upper_bound]\n",
        "print(\"Outliers identified:\", outliers)\n"
      ],
      "metadata": {
        "colab": {
          "base_uri": "https://localhost:8080/",
          "height": 419
        },
        "id": "EGjTS2RqQLOO",
        "outputId": "ac246232-63a2-423d-e70a-22864507abd2"
      },
      "execution_count": 4,
      "outputs": [
        {
          "output_type": "display_data",
          "data": {
            "text/plain": [
              "<Figure size 800x400 with 1 Axes>"
            ],
            "image/png": "[encoded data removed]"
          },
          "metadata": {}
        },
        {
          "output_type": "stream",
          "name": "stdout",
          "text": [
            "Outliers identified: [35]\n"
          ]
        }
      ]
    },
    {
      "cell_type": "markdown",
      "source": [
        "# 8:\n",
        "You are working as a data analyst in an e-commerce company The\n",
        "marketing team wants to know if there is a relationship between advertising spend and\n",
        "daily sales.\n",
        "\n",
        "● Explain how you would use covariance and correlation to explore this\n",
        "relationship.\n",
        "\n",
        "● Write Python code to compute the correlation between the two lists:\n",
        "\n",
        "advertising_spend = [200, 250, 300, 400, 500]\n",
        "\n",
        "daily_sales = [2200, 2450, 2750, 3200, 4000]\n",
        "\n",
        " # ANSWER\n",
        "\n",
        "  Covariance measures how two variables change together. A positive value means they increase together; a negative value means one increases while the other decreases. However, its magnitude is hard to interpret because it's not standardized.\n",
        "\n",
        "Correlation standardizes covariance, giving a value between -1 and 1:\n",
        "\n",
        "+1: Perfect positive relationship\n",
        "\n",
        "0: No relationship\n",
        "\n",
        "–1: Perfect negative relationship This makes correlation much more interpretable."
      ],
      "metadata": {
        "id": "A4rsLfRUQP20"
      }
    },
    {
      "cell_type": "code",
      "source": [
        "import numpy as np\n",
        "\n",
        "# Data\n",
        "advertising_spend = [200, 250, 300, 400, 500]\n",
        "daily_sales = [2200, 2450, 2750, 3200, 4000]\n",
        "\n",
        "# Convert to numpy arrays\n",
        "x = np.array(advertising_spend)\n",
        "y = np.array(daily_sales)\n",
        "\n",
        "# Compute covariance\n",
        "cov_matrix = np.cov(x, y)\n",
        "covariance = cov_matrix[0, 1]\n",
        "\n",
        "# Compute correlation coefficient\n",
        "correlation = np.corrcoef(x, y)[0, 1]\n",
        "\n",
        "print(\"Covariance between advertising spend and daily sales:\", covariance)\n",
        "print(\"Correlation coefficient between advertising spend and daily sales:\", correlation)\n"
      ],
      "metadata": {
        "colab": {
          "base_uri": "https://localhost:8080/",
          "height": 0
        },
        "id": "7wf1F7lcQ0g5",
        "outputId": "7261055b-e850-4dbc-d1df-51c28ed05319"
      },
      "execution_count": 5,
      "outputs": [
        {
          "output_type": "stream",
          "name": "stdout",
          "text": [
            "Covariance between advertising spend and daily sales: 84875.0\n",
            "Correlation coefficient between advertising spend and daily sales: 0.9935824101653329\n"
          ]
        }
      ]
    },
    {
      "cell_type": "markdown",
      "source": [
        "# 9 :\n",
        "Your team has collected customer satisfaction survey data on a scale of\n",
        "1-10 and wants to understand its distribution before launching a new product.\n",
        "\n",
        "● Explain which summary statistics and visualizations (e.g. mean, standard\n",
        "deviation, histogram) you’d use.\n",
        "\n",
        "● Write Python code to create a histogram using Matplotlib for the survey data:\n",
        "survey_scores = [7, 8, 5, 9, 6, 7, 8, 9, 10, 4, 7, 6, 9, 8, 7]\n",
        "\n",
        "# Ans:-\n",
        "\n",
        "Summary Statistics:\n",
        "\n",
        "Mean: The average score, indicating overall satisfaction.\n",
        "\n",
        "Median: The middle score, useful if the data is skewed.\n",
        "\n",
        "Mode: The most frequent score, showing common sentiment.\n",
        "\n",
        "Standard Deviation: Measures variability—how spread out the scores are.\n",
        "\n",
        "Minimum & Maximum: Show the range of satisfaction.\n",
        "\n",
        "Visualizations:\n",
        "\n",
        "Histogram: Displays the frequency of each score, revealing the shape of the distribution (e.g. skewed, normal, bimodal).\n",
        "\n",
        "Boxplot (optional): Highlights median, quartiles, and outliers.\n",
        "\n",
        "Insights from the Histogram:\n",
        "\n",
        "The histogram shows that scores cluster around 7–9, with 7 being the most frequent. This suggests generally high satisfaction, which is promising for a product launch. The scores range from 4 to 10, indicating some variability but no extreme dissatisfaction."
      ],
      "metadata": {
        "id": "OWL4rVoPRFXW"
      }
    },
    {
      "cell_type": "code",
      "source": [
        "import matplotlib.pyplot as plt\n",
        "import seaborn as sns\n",
        "\n",
        "# Survey scores data\n",
        "survey_scores = [7, 8, 5, 9, 6, 7, 8, 9, 10, 4, 7, 6, 9, 8, 7]\n",
        "\n",
        "# Set Seaborn style for better aesthetics\n",
        "sns.set(style=\"whitegrid\")\n",
        "\n",
        "# Create histogram\n",
        "plt.figure(figsize=(10, 6))\n",
        "plt.hist(survey_scores, bins=range(1, 12), edgecolor='black', color='skyblue', align='left')\n",
        "plt.title('Distribution of Customer Satisfaction Survey Scores', fontsize=16)\n",
        "plt.xlabel('Survey Score (1-10)', fontsize=14)\n",
        "plt.ylabel('Frequency', fontsize=14)\n",
        "plt.xticks(range(1, 11))\n",
        "plt.tight_layout()\n",
        "\n",
        "# Save the plot\n",
        "plt.savefig('customer_satisfaction_histogram.png')\n",
        "\n",
        "# Show\n",
        "plt.show()\n"
      ],
      "metadata": {
        "colab": {
          "base_uri": "https://localhost:8080/",
          "height": 601
        },
        "id": "zv0bHBxFSARy",
        "outputId": "c49dcf90-e10d-48d7-f176-735ba1207b3c"
      },
      "execution_count": 8,
      "outputs": [
        {
          "output_type": "display_data",
          "data": {
            "text/plain": [
              "<Figure size 1000x600 with 1 Axes>"
            ],
            "image/png": "[encoded data removed]"
          },
          "metadata": {}
        }
      ]
    },
    {
      "cell_type": "markdown",
      "source": [],
      "metadata": {
        "id": "YiUdjx6DRdxj"
      }
    }
  ]
}